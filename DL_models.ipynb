{
 "cells": [
  {
   "cell_type": "code",
   "execution_count": 2,
   "metadata": {},
   "outputs": [],
   "source": [
    "import torch\n",
    "import torch.nn.functional as F"
   ]
  },
  {
   "cell_type": "code",
   "execution_count": 3,
   "metadata": {},
   "outputs": [],
   "source": [
    "a = torch.tensor([2]).float()\n"
   ]
  },
  {
   "cell_type": "code",
   "execution_count": 4,
   "metadata": {},
   "outputs": [],
   "source": [
    "# Deep learning model with relu activations\n",
    "from tkinter import Y\n",
    "\n",
    "\n",
    "class DL(torch.nn.Module):\n",
    "    def __init__(self, n_inp, \n",
    "        l_1, l_2, conv1_out, \n",
    "        conv1_kernel, \n",
    "        conv2_kernel, drop1 = 0):\n",
    "        \n",
    "        super(DL, self).__init__()\n",
    "        conv1_out_ch = conv1_out\n",
    "        conv2_out_ch = conv1_out*2\n",
    "        conv1_kernel = conv1_kernel\n",
    "        conv2_kernel = conv2_kernel\n",
    "        self.dropout_lin1 = drop1\n",
    "\n",
    "        self.pool = torch.nn.MaxPool1d(kernel_size = 2)\n",
    "\n",
    "        self.conv1 = torch.nn.Conv1d(in_channels=1, out_channels=conv1_out_ch,\n",
    "                                     kernel_size=conv1_kernel, padding=conv1_kernel-1)\n",
    "\n",
    "        self.conv2 = torch.nn.Conv1d(in_channels=conv1_out_ch, out_channels=conv2_out_ch,\n",
    "                                     kernel_size=conv2_kernel, padding=conv2_kernel-1)     \n",
    "\n",
    "\n",
    "        feature_tensor = self.feature_stack(torch.Tensor([[0]*n_inp]))\n",
    "\n",
    "        self.lin1 = torch.nn.Linear(feature_tensor.size()[1], l_1)\n",
    "        self.lin2 = torch.nn.Linear(l_1, l_2)\n",
    "        self.lin3 = torch.nn.Linear(l_2,1)\n",
    "\n",
    "    \n",
    "    def feature_stack(self, x):\n",
    "        x = x.unsqueeze(1)\n",
    "        x = F.relu(self.pool(self.conv1(x)))\n",
    "        x = F.relu(self.pool(self.conv2(x)))\n",
    "        x = x.flatten(start_dim=1)\n",
    "        return x\n",
    "\n",
    "    def fc_stack(self, x):\n",
    "        x1 = F.dropout(F.relu(self.lin1(x)), p = self.dropout_lin1)\n",
    "        x2 = F.relu(self.lin2(x))\n",
    "        return Y\n",
    "\n",
    "    def forward(self, x):\n",
    "        x = self.feature_stack(x)\n",
    "        y = self.fc_stack(x)\n",
    "        return y\n",
    "\n",
    "\n",
    "\n",
    "        \n"
   ]
  },
  {
   "cell_type": "code",
   "execution_count": 12,
   "metadata": {},
   "outputs": [
    {
     "name": "stdout",
     "output_type": "stream",
     "text": [
      "bow wow\n",
      "meow\n"
     ]
    }
   ],
   "source": [
    "# Using a super class to derive methods and variables\n",
    "class Animal():\n",
    "    def __init__(self, family, legs):\n",
    "        self.family = family\n",
    "        self.legs = legs\n",
    "    \n",
    "    def bark(self):\n",
    "        if self.family == 'dogs':\n",
    "            print('bow wow')\n",
    "    \n",
    "    def speak(self):\n",
    "        if self.family == 'cats':\n",
    "            print('roar')\n",
    "\n",
    "class Dog(Animal):\n",
    "    def __init__(self, family, legs):\n",
    "        super(Dog, self).__init__(family, legs)\n",
    "\n",
    "class Cat(Animal):\n",
    "    def __init__(self, family, legs):\n",
    "        self.family = family\n",
    "        self.legs = legs\n",
    "    \n",
    "    def speak(self):\n",
    "        if self.family == 'cats':\n",
    "            print('meow')\n",
    "\n",
    "ronny = Dog('dogs', '4')\n",
    "ronny.bark()\n",
    "\n",
    "lenny = Cat('cats', '4')\n",
    "lenny.speak()"
   ]
  },
  {
   "cell_type": "code",
   "execution_count": 19,
   "metadata": {},
   "outputs": [
    {
     "name": "stdout",
     "output_type": "stream",
     "text": [
      "Values are , 3, 4\n"
     ]
    }
   ],
   "source": [
    "# Overloading methods, basically overload standard python signs for use in objects\n",
    "class Point():\n",
    "    def __init__(self, x=0, y=0):\n",
    "        self.x = x\n",
    "        self.y = y\n",
    "        self.coords = (self.x, self.y)\n",
    "\n",
    "    def move(self, x, y):\n",
    "        self.x += x\n",
    "        self.y += y\n",
    "\n",
    "    def length(self):\n",
    "        import math\n",
    "        \n",
    "        return math.sqrt(self.x ** 2 + self.y**2)\n",
    "\n",
    "    def __gt__(self, other):  # greater than\n",
    "        return self.length() > other.length()\n",
    "\n",
    "    def __ge__(self, other):  # greater than or equal to\n",
    "        return self.length() >= other.length()\n",
    "        \n",
    "    def __lt__(self, other):  # less than\n",
    "        return self.length() < other.length()\n",
    "\n",
    "    def __le__(self, other):  # less than or equal to\n",
    "        return self.length() <= other.length()\n",
    "    \n",
    "    def __eq__(self, other): # equal to or not\n",
    "        return (self.x == other.x and self.y == other.y)\n",
    "\n",
    "    def __str__(self): # overlaoads the print command\n",
    "        return f'Values are , {self.x}, {self.y}'\n",
    "\n",
    "\n",
    "# We are going to compare points based on their lengths\n",
    "    \n",
    "\n",
    "p1 = Point(3, 4)\n",
    "p2 = Point(3, 2)\n",
    "p3 = Point(1, 3)\n",
    "p4 = Point(0, 1)\n",
    "print(p1)"
   ]
  },
  {
   "cell_type": "code",
   "execution_count": null,
   "metadata": {},
   "outputs": [],
   "source": [
    "# Static methods\n",
    "class myClass:\n",
    "    def __init__(self):\n",
    "        self.x = x\n",
    "\n",
    "    @staticmethod\n",
    "    def staticMethod():  \n",
    "        return \"i am a static method\"\n",
    "\n",
    "# Notice staticMethod does not require the self parameter\n",
    "\n",
    "# Class methods\n",
    "class myClass:\n",
    "    count = 0\n",
    "\n",
    "    def __init__(self):\n",
    "        self.x = x\n",
    "\n",
    "    @classmethod\n",
    "    def classMethod(cls):  \n",
    "        cls.count += 1\n",
    "# The classMethod can access and modify class variables. It takes the class name as a required parameter"
   ]
  },
  {
   "cell_type": "code",
   "execution_count": null,
   "metadata": {},
   "outputs": [],
   "source": [
    "# Private and Public - in python all classes and methods are private\n",
    "class _Private:\n",
    "    def __init__(self, name):\n",
    "        self.name = name\n",
    "\n",
    "\n",
    "class NotPrivate:\n",
    "    def __init__(self, name):\n",
    "        self.name = name\n",
    "        self.priv = _Private(name)  # Even though we decalre something private we can still call and us it\n",
    "\n",
    "    def _dispaly(self):  # Private\n",
    "        print(\"Hello\")\n",
    "\n",
    "    def display(self):  # Public\n",
    "        print(\"Hi\")"
   ]
  },
  {
   "cell_type": "markdown",
   "metadata": {},
   "source": []
  }
 ],
 "metadata": {
  "kernelspec": {
   "display_name": "Python 3.9.13 ('pytorch_env')",
   "language": "python",
   "name": "python3"
  },
  "language_info": {
   "codemirror_mode": {
    "name": "ipython",
    "version": 3
   },
   "file_extension": ".py",
   "mimetype": "text/x-python",
   "name": "python",
   "nbconvert_exporter": "python",
   "pygments_lexer": "ipython3",
   "version": "3.9.13"
  },
  "orig_nbformat": 4,
  "vscode": {
   "interpreter": {
    "hash": "43c36565eca8a52d0dc71570d949c971f9f2f93b689a4b6a15f841ef051e8e4a"
   }
  }
 },
 "nbformat": 4,
 "nbformat_minor": 2
}
