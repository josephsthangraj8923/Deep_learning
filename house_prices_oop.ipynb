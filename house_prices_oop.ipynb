{
 "cells": [
  {
   "cell_type": "code",
   "execution_count": null,
   "metadata": {},
   "outputs": [],
   "source": [
    "#main libraries\n",
    "import os\n",
    "import numpy as np\n",
    "import pandas as pd\n",
    "import warnings\n",
    "\n",
    "#visualization libraries\n",
    "import plotly \n",
    "import plotly.graph_objs as go\n",
    "import plotly.io as pio\n",
    "import plotly.express as px\n",
    "from plotly.offline import iplot, init_notebook_mode\n",
    "import cufflinks as cf\n",
    "\n",
    "#machine learning libraries:\n",
    "from sklearn.svm import SVR\n",
    "from sklearn.pipeline import make_pipeline\n",
    "from sklearn.model_selection import cross_validate, train_test_split, KFold, cross_val_score\n",
    "from sklearn.preprocessing  import StandardScaler, LabelEncoder, RobustScaler\n",
    "from sklearn.ensemble import RandomForestRegressor\n",
    "from xgboost import XGBRegressor\n",
    "from sklearn.linear_model import ElasticNet, Lasso,  BayesianRidge, LassoLarsIC\n",
    "from sklearn.kernel_ridge import KernelRidge\n",
    "from sklearn.ensemble import GradientBoostingRegressor\n",
    "from sklearn.metrics import mean_squared_error, mean_absolute_error, r2_score\n",
    "import xgboost as xgb\n",
    "\n",
    "# You can go offline on demand by using\n",
    "cf.go_offline() \n",
    "\n",
    "# initiate notebook for offline plot\n",
    "init_notebook_mode(connected=False)         \n",
    "\n",
    "# set some display options:\n",
    "colors = px.colors.qualitative.Prism\n",
    "pio.templates.default = \"plotly_white\""
   ]
  },
  {
   "cell_type": "code",
   "execution_count": null,
   "metadata": {},
   "outputs": [],
   "source": [
    "# Ignore warnings\n",
    "warnings.filterwarnings('ignore')\n",
    "print(\"Warnings were ignored\")"
   ]
  },
  {
   "cell_type": "code",
   "execution_count": null,
   "metadata": {},
   "outputs": [],
   "source": [
    "class Information:\n",
    "    \"\"\"This class shows some information about the dataset\n",
    "    \"\"\"\n",
    "    def __init__(self):\n",
    "        print(\"Information object is created\")\n",
    "    \n",
    "    def get_missing_values(self, data):\n",
    "        \"\"\"This method finds the missing values in the dataset\n",
    "\n",
    "        Args:\n",
    "            data (pd.DataFrame): Input Data\n",
    "\n",
    "        Returns:\n",
    "        A pandas series contains missing values in descending order\n",
    "        \"\"\"\n",
    "\n",
    "        missing_values = data.isnull().sum()\n",
    "\n",
    "        #sorting the missing values in a pandas Series\n",
    "        missing_values = missing_values.sort_values(ascending=False)\n",
    "\n",
    "        return missing_values\n",
    "\n",
    "    def _info_(self, data):\n",
    "        \n"
   ]
  },
  {
   "cell_type": "code",
   "execution_count": null,
   "metadata": {},
   "outputs": [],
   "source": [
    "class HouseObjectOriented:\n",
    "    \"\"\"House class\n",
    "    \"\"\"\n",
    "\n",
    "    def __init__(self):\n",
    "        #properties\n",
    "        self.ntrain=None\n",
    "        self.testID = None\n",
    "        self.y_train=None\n",
    "        self.test=None\n",
    "        self._info = Information()\n",
    "        self._Preprocessor = Preprocessor()\n",
    "\n",
    "        print('HouseObjectOriented object is created')\n",
    "    \n",
    "    def add_data(self, train, test):\n",
    "        # properties\n",
    "        self.ntrain = train.shape[0]\n",
    "        self.testID = test.reset_index().drop('index', axis = 1)['Id'] # why is axis dropped here\n",
    "        self.y_train = train['SalePrice'].apply(lambda x:np.log1p(x))\n",
    "        self.train = train.drop('SalePrice', axis = 1)\n",
    "        self.test=test\n",
    "\n",
    "        #concatenating the whole data\n",
    "        self.data = self.concat_data(self.train, self.test)\n",
    "        self.orig_data = self.data.copy() # Not good for large training data sets\n",
    "\n",
    "        print(\"your data has been added to the class object\")\n",
    "\n",
    "    def concat_data(self, train, test):\n",
    "\n",
    "        data = pd.concat([self.train.set_index('Id'),])\n"
   ]
  }
 ],
 "metadata": {
  "kernelspec": {
   "display_name": "Python 3.9.13 ('pytorch_env')",
   "language": "python",
   "name": "python3"
  },
  "language_info": {
   "name": "python",
   "version": "3.9.13"
  },
  "orig_nbformat": 4,
  "vscode": {
   "interpreter": {
    "hash": "43c36565eca8a52d0dc71570d949c971f9f2f93b689a4b6a15f841ef051e8e4a"
   }
  }
 },
 "nbformat": 4,
 "nbformat_minor": 2
}
